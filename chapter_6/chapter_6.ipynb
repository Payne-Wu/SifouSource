{
 "cells": [
  {
   "cell_type": "code",
   "execution_count": 9,
   "metadata": {},
   "outputs": [
    {
     "name": "stdout",
     "output_type": "stream",
     "text": [
      "虚假容器初始化了！\n",
      "开始调用函数！\n",
      "[100]\n",
      "[100, 50]\n"
     ]
    }
   ],
   "source": [
    "class Container:\n",
    "    def __init__(self):\n",
    "        print('虚假容器初始化了！')\n",
    "        self.real_list = []\n",
    "\n",
    "    def append(self, data):\n",
    "        self.real_list.append(data)\n",
    "\n",
    "    def __str__(self):\n",
    "        return str(self.real_list)\n",
    "\n",
    "        \n",
    "def default_para_trap(para=Container(), value=0):\n",
    "    para.append(value)\n",
    "    return para\n",
    "\n",
    "print('开始调用函数！')\n",
    "print(default_para_trap(value=100))\n",
    "print(default_para_trap(value=50))"
   ]
  },
  {
   "cell_type": "code",
   "execution_count": null,
   "metadata": {
    "collapsed": true
   },
   "outputs": [],
   "source": [
    "import pymongo\n",
    "\n",
    "handler = pymongo.MongoClient().chapter_6.data\n",
    "rows = [x for x in handler.find()]\n",
    "...几行无关代码...\n",
    "safe_data = [x for x in rows if x['is_safe']]\n",
    "...几行无关代码\n",
    "bigger_than_20_data = [x for x in safe_data if x['age'] > 20]\n",
    "...几行无关代码...\n",
    "average_salary = sum([x['salary'] for x in safe_data]) // len(safe_data)\n"
   ]
  },
  {
   "cell_type": "code",
   "execution_count": null,
   "metadata": {
    "collapsed": true
   },
   "outputs": [],
   "source": [
    "import pymongo\n",
    "\n",
    "handler = pymongo.MongoClient().chapter_6.data\n",
    "safe_data = []\n",
    "bigger_than_20 = []\n",
    "total_salary = 0\n",
    "for row in handler.find():\n",
    "    if not row['is_safe']:\n",
    "        continue\n",
    "    safe_data.append(row)\n",
    "    if row['age'] > 20:\n",
    "        bigger_than_20_data.append(row)\n",
    "    total_salary += row['salary']\n",
    "average_salary = total_salary // len(safe_data)"
   ]
  }
 ],
 "metadata": {
  "kernelspec": {
   "display_name": "Python 3",
   "language": "python",
   "name": "python3"
  },
  "language_info": {
   "codemirror_mode": {
    "name": "ipython",
    "version": 3
   },
   "file_extension": ".py",
   "mimetype": "text/x-python",
   "name": "python",
   "nbconvert_exporter": "python",
   "pygments_lexer": "ipython3",
   "version": "3.6.8"
  }
 },
 "nbformat": 4,
 "nbformat_minor": 2
}
