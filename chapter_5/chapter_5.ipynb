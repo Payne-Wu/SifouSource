{
 "cells": [
  {
   "cell_type": "code",
   "execution_count": null,
   "metadata": {},
   "outputs": [],
   "source": [
    "import redis\n",
    "\n",
    "client = redis.Redis()\n",
    "\n",
    "data = 123\n",
    "client.set('chapter_5', data)"
   ]
  },
  {
   "cell_type": "code",
   "execution_count": null,
   "metadata": {},
   "outputs": [],
   "source": [
    "data = client.get('chapter_5')\n",
    "int(data)"
   ]
  },
  {
   "cell_type": "code",
   "execution_count": null,
   "metadata": {},
   "outputs": [],
   "source": [
    "import json\n",
    "import redis\n",
    "\n",
    "client = redis.Redis()\n",
    "\n",
    "data = 123\n",
    "data_json = json.dumps(data)\n",
    "client.set('chapter_5', data_json)"
   ]
  },
  {
   "cell_type": "code",
   "execution_count": null,
   "metadata": {},
   "outputs": [],
   "source": [
    "data_received = client.get('chapter_5')\n",
    "real_data = json.loads(data_received)\n",
    "\n",
    "result = real_data + 1\n",
    "print(result)"
   ]
  },
  {
   "cell_type": "code",
   "execution_count": null,
   "metadata": {},
   "outputs": [],
   "source": [
    "a = 'kingname'\n",
    "json.dumps(a)"
   ]
  },
  {
   "cell_type": "code",
   "execution_count": null,
   "metadata": {},
   "outputs": [],
   "source": [
    "b = 123\n",
    "json.dumps(b)"
   ]
  },
  {
   "cell_type": "code",
   "execution_count": null,
   "metadata": {
    "collapsed": true
   },
   "outputs": [],
   "source": [
    "import pymysql\n",
    "\n",
    "\n",
    "connection = pymysql.connect(host='localhost',\n",
    "                             user='user',\n",
    "                             password='passwd',\n",
    "                             db='db',\n",
    "                             charset='utf8mb4',\n",
    "                             cursorclass=pymysql.cursors.DictCursor)\n",
    "                             \n",
    "with connection.cursor() as cursor:\n",
    "    db = 'select * from users where age > 10'\n",
    "    cursor.execute(db)\n",
    "    one_user = cursor.fetchone()"
   ]
  },
  {
   "cell_type": "code",
   "execution_count": null,
   "metadata": {
    "collapsed": true
   },
   "outputs": [],
   "source": [
    "import pymysql\n",
    "\n",
    "\n",
    "connection = pymysql.connect(host='localhost',\n",
    "                             user='user',\n",
    "                             password='passwd',\n",
    "                             db='db',\n",
    "                             charset='utf8mb4',\n",
    "                             cursorclass=pymysql.cursors.SSDictCursor)\n",
    "                             \n",
    "with connection.cursor() as cursor:\n",
    "    db = 'select * from users where age > 10'\n",
    "    cursor.execute(db)\n",
    "    for row in cursor:\n",
    "        print('对 cursor 直接进行迭代，每循环一次，从数据库读取一条数据。不会提前把所有数据读取到内存中。')\n",
    "        print(row['name'])"
   ]
  },
  {
   "cell_type": "code",
   "execution_count": 2,
   "metadata": {},
   "outputs": [
    {
     "name": "stdout",
     "output_type": "stream",
     "text": [
      "456\n",
      "123\n",
      "world\n",
      "hello\n"
     ]
    }
   ],
   "source": [
    "import redis\n",
    "import time\n",
    "\n",
    "client = redis.Redis(host='123.75.20.112',\n",
    "                     port=6379,\n",
    "                     password='kingnameishandsome')\n",
    "\n",
    "def read_data():\n",
    "    while True:\n",
    "        data = client.lpop('chapter_5_data')\n",
    "        if not data:\n",
    "            time.sleep(1)\n",
    "            continue\n",
    "        return data.decode()\n",
    "\n",
    "\n",
    "data = read_data()\n"
   ]
  },
  {
   "cell_type": "code",
   "execution_count": null,
   "metadata": {
    "collapsed": true
   },
   "outputs": [],
   "source": []
  }
 ],
 "metadata": {
  "kernelspec": {
   "display_name": "Python 3",
   "language": "python",
   "name": "python3"
  },
  "language_info": {
   "codemirror_mode": {
    "name": "ipython",
    "version": 3
   },
   "file_extension": ".py",
   "mimetype": "text/x-python",
   "name": "python",
   "nbconvert_exporter": "python",
   "pygments_lexer": "ipython3",
   "version": "3.6.8"
  }
 },
 "nbformat": 4,
 "nbformat_minor": 2
}
