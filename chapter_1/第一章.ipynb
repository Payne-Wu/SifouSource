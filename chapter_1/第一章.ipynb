{
 "cells": [
  {
   "cell_type": "code",
   "execution_count": 1,
   "metadata": {},
   "outputs": [
    {
     "name": "stdout",
     "output_type": "stream",
     "text": [
      "传入的值为： kingname\n",
      "函数中把 a 修改为： 0\n",
      "退出函数，发现 origin 的值为： kingname\n"
     ]
    }
   ],
   "source": [
    "def change_str(a):\n",
    "    print('传入的值为：', a)\n",
    "    a = 0\n",
    "    print('函数中把 a 修改为：', a)\n",
    "\n",
    "origin = 'kingname'\n",
    "change_str(origin)\n",
    "print(f'退出函数，发现 origin 的值为：', origin)"
   ]
  },
  {
   "cell_type": "code",
   "execution_count": 2,
   "metadata": {},
   "outputs": [
    {
     "name": "stdout",
     "output_type": "stream",
     "text": [
      "传入的值为： [1, 2, 3]\n",
      "函数中把 a 修改为： [1, 2, '我是新的值']\n",
      "退出函数，发现 origin 的值为： [1, 2, '我是新的值']\n"
     ]
    }
   ],
   "source": [
    "def change_list(a):\n",
    "    print('传入的值为：', a)\n",
    "    a.pop()\n",
    "    a.append('我是新的值')\n",
    "    print('函数中把 a 修改为：', a)\n",
    "\n",
    "origin = [1, 2, 3]\n",
    "change_list(origin)\n",
    "print(f'退出函数，发现 origin 的值为：', origin)"
   ]
  },
  {
   "cell_type": "code",
   "execution_count": 6,
   "metadata": {},
   "outputs": [
    {
     "name": "stdout",
     "output_type": "stream",
     "text": [
      "给老板发送邮件，邮件内容：{'开始日期': '2020-08-01', '结束日期': '2020-09-10', '客户姓名': 'kingname', '财务部机密信息': '合同价格100亿，给员工发奖金1元钱。'}\n",
      "给员工发送邮件，邮件内容：{'开始日期': '2020-08-01', '结束日期': '2020-09-10', '客户姓名': 'kingname', '财务部机密信息': '合同价格100亿，给员工发奖金1元钱。'}\n"
     ]
    }
   ],
   "source": [
    "def get_common_info():\n",
    "    info = {'开始日期': '2020-08-01', '结束日期': '2020-09-10', '客户姓名': 'kingname'}\n",
    "    return info\n",
    "\n",
    "def add_extra_info(info):\n",
    "    info['财务部机密信息'] = '合同价格100亿，给员工发奖金1元钱。'\n",
    "\n",
    "def do_send(info, receiver):\n",
    "    print(f'给{receiver}发送邮件，邮件内容：{info}')\n",
    "\n",
    "def send_to_boss(info):\n",
    "    add_extra_info(info)\n",
    "    do_send(info, '老板')\n",
    "    \n",
    "def send_to_worker(info):\n",
    "    do_send(info, '员工')\n",
    "\n",
    "def dispatch():\n",
    "    common_info = get_common_info()\n",
    "    send_to_boss(common_info)\n",
    "    send_to_worker(common_info)\n",
    "\n",
    "dispatch()"
   ]
  },
  {
   "cell_type": "code",
   "execution_count": 9,
   "metadata": {},
   "outputs": [
    {
     "name": "stdout",
     "output_type": "stream",
     "text": [
      "给老板发送邮件，邮件内容：{'开始日期': '2020-08-01', '结束日期': '2020-09-10', '客户姓名': 'kingname', '额外信息': {'业务员': '王小二', '业务员与老板关系': '老板亲戚'}, '财务部机密信息': '合同价格100亿，给员工发奖金1元钱。'}\n",
      "给员工发送邮件，邮件内容：{'开始日期': '2020-08-01', '结束日期': '2020-09-10', '客户姓名': 'kingname', '额外信息': {'业务员': '王小二', '业务员与老板关系': '老板亲戚'}}\n"
     ]
    }
   ],
   "source": [
    "def get_common_info():\n",
    "    info = {'开始日期': '2020-08-01', '结束日期': '2020-09-10', '客户姓名': 'kingname', '额外信息': {'业务员': '王小二'}}\n",
    "    return info\n",
    "\n",
    "def add_extra_info(info):\n",
    "    info['财务部机密信息'] = '合同价格100亿，给员工发奖金1元钱。'\n",
    "    info['额外信息']['业务员与老板关系'] = '老板亲戚'\n",
    "\n",
    "def do_send(info, receiver):\n",
    "    print(f'给{receiver}发送邮件，邮件内容：{info}')\n",
    "\n",
    "def send_to_boss(info):\n",
    "    add_extra_info(info)\n",
    "    do_send(info, '老板')\n",
    "    \n",
    "def send_to_worker(info):\n",
    "    do_send(info, '员工')\n",
    "\n",
    "def dispatch():\n",
    "    common_info = get_common_info()\n",
    "    send_to_boss(common_info.copy())\n",
    "    send_to_worker(common_info)\n",
    "\n",
    "dispatch()"
   ]
  },
  {
   "cell_type": "code",
   "execution_count": 11,
   "metadata": {},
   "outputs": [
    {
     "name": "stdout",
     "output_type": "stream",
     "text": [
      "False\n",
      "True\n",
      "True\n"
     ]
    }
   ],
   "source": [
    "data = [[1, 2, 3], {'name': 'kingname', 'salary': 99999}]\n",
    "data_copy = data.copy()\n",
    "\n",
    "print(data is data_copy)\n",
    "for row, row_copy in zip(data, data_copy):\n",
    "    print(row is row_copy)"
   ]
  },
  {
   "cell_type": "code",
   "execution_count": 12,
   "metadata": {},
   "outputs": [
    {
     "name": "stdout",
     "output_type": "stream",
     "text": [
      "原始数据： [[1, 2, 3], {'name': 'kingname', 'salary': 99999}]\n",
      "拷贝后修改的数据： [[1, 2, 3, 4], {'name': 'kingname', 'salary': 99999, 'age': 28}]\n"
     ]
    }
   ],
   "source": [
    "import copy\n",
    "\n",
    "data = [[1, 2, 3], {'name': 'kingname', 'salary': 99999}]\n",
    "data_copy = copy.deepcopy(data)\n",
    "data_copy[0].append(4)\n",
    "data_copy[1]['age'] = 28\n",
    "\n",
    "print('原始数据：', data)\n",
    "print('拷贝后修改的数据：', data_copy)"
   ]
  },
  {
   "cell_type": "code",
   "execution_count": 20,
   "metadata": {},
   "outputs": [
    {
     "name": "stdout",
     "output_type": "stream",
     "text": [
      "False\n"
     ]
    }
   ],
   "source": [
    "import copy\n",
    "\n",
    "data = (1, 2, [])\n",
    "data_copy = copy.deepcopy(data)\n",
    "print(data is data_copy)"
   ]
  },
  {
   "cell_type": "code",
   "execution_count": 21,
   "metadata": {},
   "outputs": [
    {
     "name": "stdout",
     "output_type": "stream",
     "text": [
      "True\n",
      "False\n"
     ]
    }
   ],
   "source": [
    "import copy\n",
    "data = 1\n",
    "data_copy = copy.deepcopy(data)\n",
    "print(data is data_copy)\n",
    "data = 2\n",
    "print(data is data_copy)"
   ]
  },
  {
   "cell_type": "code",
   "execution_count": 2,
   "metadata": {},
   "outputs": [
    {
     "name": "stdout",
     "output_type": "stream",
     "text": [
      "批量插入数据库，以下是被插入信息：\n",
      "\n",
      "{'sentence': '来自老板的重要信息', 'time': datetime.datetime(2020, 8, 16, 15, 12, 59, 832059)}\n",
      "{'sentence': '来自老板的重要信息', 'time': datetime.datetime(2020, 8, 16, 15, 12, 59, 832059)}\n",
      "{'sentence': '来自老板的重要信息', 'time': datetime.datetime(2020, 8, 16, 15, 12, 59, 832059)}\n",
      "{'sentence': '来自老板的重要信息', 'time': datetime.datetime(2020, 8, 16, 15, 12, 59, 832059)}\n",
      "\n",
      "批量插入完成！\n"
     ]
    }
   ],
   "source": [
    "import datetime\n",
    "sentence_list = [\n",
    "    '这是一条脏数据',\n",
    "    '来自 kingname 的重要信息',\n",
    "    '来自产品经理的重要信息',\n",
    "    '无关紧要的垃圾信息',\n",
    "    '完全不要紧的信息',\n",
    "    '来自青南的重要信息',\n",
    "    '来自老板的重要信息',\n",
    "    '可有可无的无效信息'\n",
    "]\n",
    "\n",
    "def batch_insert(data_list):\n",
    "    print('批量插入数据库，以下是被插入信息：\\n',)\n",
    "    for data in data_list:\n",
    "        print(data)\n",
    "    print('\\n批量插入完成！')\n",
    "\n",
    "batch_list = []\n",
    "sentence_doc = {}\n",
    "for sentence in sentence_list:\n",
    "    if '重要信息' in sentence:\n",
    "        sentence_doc['sentence'] = sentence\n",
    "        sentence_doc['time'] = datetime.datetime.now()\n",
    "        batch_list.append(sentence_doc)\n",
    "batch_insert(batch_list)"
   ]
  },
  {
   "cell_type": "code",
   "execution_count": 3,
   "metadata": {},
   "outputs": [
    {
     "name": "stdout",
     "output_type": "stream",
     "text": [
      "[{'name': 'kingname'}]\n",
      "[{'name': '青南'}]\n",
      "[{'name': '青南'}, {'name': '青南'}]\n"
     ]
    }
   ],
   "source": [
    "example_dict = {'name': 'kingname'}\n",
    "example_list = [example_dict]\n",
    "print(example_list)\n",
    "example_dict['name'] = '青南'\n",
    "print(example_list)\n",
    "example_list.append(example_dict)\n",
    "print(example_list)"
   ]
  },
  {
   "cell_type": "code",
   "execution_count": 14,
   "metadata": {},
   "outputs": [
    {
     "name": "stdout",
     "output_type": "stream",
     "text": [
      "一次性生成10个字母a： aaaaaaaaaa\n"
     ]
    }
   ],
   "source": [
    "example_str = 'a' * 10\n",
    "print('一次性生成10个字母a：', example_str)"
   ]
  },
  {
   "cell_type": "code",
   "execution_count": 6,
   "metadata": {},
   "outputs": [
    {
     "name": "stdout",
     "output_type": "stream",
     "text": [
      "一次性创建10个子列表的列表： [[], [], [], [], [], [], [], [], [], []]\n",
      "仅仅修改第一个子列表以后： [[1, 2], [1, 2], [1, 2], [1, 2], [1, 2], [1, 2], [1, 2], [1, 2], [1, 2], [1, 2]]\n"
     ]
    }
   ],
   "source": [
    "example_list = [[]] * 10\n",
    "print('一次性创建10个子列表的列表：', example_list)\n",
    "example_list[0].append(1)\n",
    "example_list[0].append(2)\n",
    "print('仅仅修改第一个子列表以后：', example_list)"
   ]
  },
  {
   "cell_type": "code",
   "execution_count": 11,
   "metadata": {},
   "outputs": [
    {
     "name": "stdout",
     "output_type": "stream",
     "text": [
      "一次性创建5个字典的列表： [{}, {}, {}, {}, {}]\n",
      "仅仅修改第一个子字典以后： [{'name': '青南'}, {'name': '青南'}, {'name': '青南'}, {'name': '青南'}, {'name': '青南'}]\n"
     ]
    }
   ],
   "source": [
    "example_list = [{}] * 5\n",
    "print('一次性创建5个字典的列表：', example_list)\n",
    "example_list[0]['name'] = '青南'\n",
    "print('仅仅修改第一个子字典以后：', example_list)"
   ]
  },
  {
   "cell_type": "code",
   "execution_count": 15,
   "metadata": {},
   "outputs": [
    {
     "name": "stdout",
     "output_type": "stream",
     "text": [
      "批量插入数据库，以下是被插入信息：\n",
      "\n",
      "{'sentence': '来自 kingname 的重要信息', 'time': datetime.datetime(2020, 8, 16, 15, 44, 50, 237493)}\n",
      "{'sentence': '来自产品经理的重要信息', 'time': datetime.datetime(2020, 8, 16, 15, 44, 50, 237502)}\n",
      "{'sentence': '来自青南的重要信息', 'time': datetime.datetime(2020, 8, 16, 15, 44, 50, 237504)}\n",
      "{'sentence': '来自老板的重要信息', 'time': datetime.datetime(2020, 8, 16, 15, 44, 50, 237505)}\n",
      "\n",
      "批量插入完成！\n"
     ]
    }
   ],
   "source": [
    "import datetime\n",
    "sentence_list = [\n",
    "    '这是一条脏数据',\n",
    "    '来自 kingname 的重要信息',\n",
    "    '来自产品经理的重要信息',\n",
    "    '无关紧要的垃圾信息',\n",
    "    '完全不要紧的信息',\n",
    "    '来自青南的重要信息',\n",
    "    '来自老板的重要信息',\n",
    "    '可有可无的无效信息'\n",
    "]\n",
    "\n",
    "def batch_insert(data_list):\n",
    "    print('批量插入数据库，以下是被插入信息：\\n',)\n",
    "    for data in data_list:\n",
    "        print(data)\n",
    "    print('\\n批量插入完成！')\n",
    "\n",
    "batch_list = []\n",
    "for sentence in sentence_list:\n",
    "    if '重要信息' in sentence:\n",
    "        sentence_doc = {\n",
    "            'sentence': sentence,\n",
    "            'time': datetime.datetime.now()\n",
    "        }\n",
    "        batch_list.append(sentence_doc)\n",
    "batch_insert(batch_list)"
   ]
  },
  {
   "cell_type": "code",
   "execution_count": 16,
   "metadata": {},
   "outputs": [
    {
     "name": "stdout",
     "output_type": "stream",
     "text": [
      "一次性创建10个子列表的列表： [[], [], [], [], [], [], [], [], [], []]\n",
      "仅仅修改第一个子列表以后： [[1, 2], [], [], [], [], [], [], [], [], []]\n"
     ]
    }
   ],
   "source": [
    "example_list = [[] for x in range(10)]\n",
    "print('一次性创建10个子列表的列表：', example_list)\n",
    "example_list[0].append(1)\n",
    "example_list[0].append(2)\n",
    "print('仅仅修改第一个子列表以后：', example_list)"
   ]
  },
  {
   "cell_type": "code",
   "execution_count": 26,
   "metadata": {},
   "outputs": [
    {
     "name": "stdout",
     "output_type": "stream",
     "text": [
      "[1, 3, 6, 7, 9]\n"
     ]
    }
   ],
   "source": [
    "num_list = [1, 3, 4, 6, 7, 9, 10]\n",
    "for index, num in enumerate(num_list):\n",
    "    if num % 2 == 0:\n",
    "        num_list.pop(index)\n",
    "print(num_list)"
   ]
  },
  {
   "cell_type": "code",
   "execution_count": 23,
   "metadata": {},
   "outputs": [
    {
     "ename": "RuntimeError",
     "evalue": "dictionary changed size during iteration",
     "output_type": "error",
     "traceback": [
      "\u001b[0;31m---------------------------------------------------------------------------\u001b[0m",
      "\u001b[0;31mRuntimeError\u001b[0m                              Traceback (most recent call last)",
      "\u001b[0;32m<ipython-input-23-27115e6ddc5c>\u001b[0m in \u001b[0;36m<module>\u001b[0;34m()\u001b[0m\n\u001b[1;32m      1\u001b[0m \u001b[0mtask_dict\u001b[0m \u001b[0;34m=\u001b[0m \u001b[0;34m{\u001b[0m\u001b[0;34m'task_1'\u001b[0m\u001b[0;34m:\u001b[0m \u001b[0;34m'kingname 的任务'\u001b[0m\u001b[0;34m,\u001b[0m \u001b[0;34m'task_2'\u001b[0m\u001b[0;34m:\u001b[0m \u001b[0;34m'pm 的任务'\u001b[0m\u001b[0;34m,\u001b[0m \u001b[0;34m'task_3'\u001b[0m\u001b[0;34m:\u001b[0m \u001b[0;34m'青南的任务'\u001b[0m\u001b[0;34m}\u001b[0m\u001b[0;34m\u001b[0m\u001b[0;34m\u001b[0m\u001b[0m\n\u001b[0;32m----> 2\u001b[0;31m \u001b[0;32mfor\u001b[0m \u001b[0mkey\u001b[0m\u001b[0;34m,\u001b[0m \u001b[0mvalue\u001b[0m \u001b[0;32min\u001b[0m \u001b[0mtask_dict\u001b[0m\u001b[0;34m.\u001b[0m\u001b[0mitems\u001b[0m\u001b[0;34m(\u001b[0m\u001b[0;34m)\u001b[0m\u001b[0;34m:\u001b[0m\u001b[0;34m\u001b[0m\u001b[0;34m\u001b[0m\u001b[0m\n\u001b[0m\u001b[1;32m      3\u001b[0m     \u001b[0;32mif\u001b[0m \u001b[0;34m'pm'\u001b[0m \u001b[0;32min\u001b[0m \u001b[0mvalue\u001b[0m\u001b[0;34m:\u001b[0m\u001b[0;34m\u001b[0m\u001b[0;34m\u001b[0m\u001b[0m\n\u001b[1;32m      4\u001b[0m         \u001b[0mtask_dict\u001b[0m\u001b[0;34m.\u001b[0m\u001b[0mpop\u001b[0m\u001b[0;34m(\u001b[0m\u001b[0mkey\u001b[0m\u001b[0;34m)\u001b[0m\u001b[0;34m\u001b[0m\u001b[0;34m\u001b[0m\u001b[0m\n\u001b[1;32m      5\u001b[0m \u001b[0mprint\u001b[0m\u001b[0;34m(\u001b[0m\u001b[0mtask_dict\u001b[0m\u001b[0;34m)\u001b[0m\u001b[0;34m\u001b[0m\u001b[0;34m\u001b[0m\u001b[0m\n",
      "\u001b[0;31mRuntimeError\u001b[0m: dictionary changed size during iteration"
     ]
    }
   ],
   "source": [
    "task_dict = {'task_1': 'kingname 的任务', 'task_2': 'pm 的任务', 'task_3': '青南的任务'}\n",
    "for key, value in task_dict.items():\n",
    "    if 'pm' in value:\n",
    "        task_dict.pop(key)\n",
    "print(task_dict)"
   ]
  },
  {
   "cell_type": "code",
   "execution_count": 27,
   "metadata": {},
   "outputs": [
    {
     "name": "stdout",
     "output_type": "stream",
     "text": [
      "[1, 3, 7, 9]\n"
     ]
    }
   ],
   "source": [
    "num_list = [1, 3, 4, 6, 7, 9, 10]\n",
    "num_list = [x for x in num_list if x % 2 != 0]\n",
    "print(num_list)"
   ]
  },
  {
   "cell_type": "code",
   "execution_count": 28,
   "metadata": {},
   "outputs": [
    {
     "name": "stdout",
     "output_type": "stream",
     "text": [
      "[1, 3, 7, 9]\n"
     ]
    }
   ],
   "source": [
    "num_list = [1, 3, 4, 6, 7, 9, 10]\n",
    "result = []\n",
    "for num in num_list:\n",
    "    if num % 2 != 0:\n",
    "        result.append(num)\n",
    "print(result)"
   ]
  },
  {
   "cell_type": "code",
   "execution_count": 29,
   "metadata": {},
   "outputs": [
    {
     "name": "stdout",
     "output_type": "stream",
     "text": [
      "{'task_1': 'kingname 的任务', 'task_3': '青南的任务'}\n"
     ]
    }
   ],
   "source": [
    "task_dict = {'task_1': 'kingname 的任务', 'task_2': 'pm 的任务', 'task_3': '青南的任务'}\n",
    "for key, value in list(task_dict.items()):\n",
    "    if 'pm' in value:\n",
    "        task_dict.pop(key)\n",
    "print(task_dict)"
   ]
  },
  {
   "cell_type": "code",
   "execution_count": 33,
   "metadata": {},
   "outputs": [
    {
     "name": "stdout",
     "output_type": "stream",
     "text": [
      "从列表头部弹出所有数据，耗时： 2.064723014831543\n"
     ]
    }
   ],
   "source": [
    "import time\n",
    "example = list('a' * 100000)\n",
    "start = time.time()\n",
    "while example:\n",
    "    example.pop(0)\n",
    "end = time.time()\n",
    "print('从列表头部弹出所有数据，耗时：', end - start)"
   ]
  },
  {
   "cell_type": "code",
   "execution_count": 34,
   "metadata": {},
   "outputs": [
    {
     "name": "stdout",
     "output_type": "stream",
     "text": [
      "从列表尾部弹出所有数据，耗时： 0.016645193099975586\n"
     ]
    }
   ],
   "source": [
    "import time\n",
    "example = list('a' * 100000)\n",
    "start = time.time()\n",
    "while example:\n",
    "    example.pop()\n",
    "end = time.time()\n",
    "print('从列表尾部弹出所有数据，耗时：', end - start)"
   ]
  },
  {
   "cell_type": "code",
   "execution_count": 37,
   "metadata": {},
   "outputs": [
    {
     "name": "stdout",
     "output_type": "stream",
     "text": [
      "从头部依次插入数据，耗时： 2.953094720840454\n"
     ]
    }
   ],
   "source": [
    "import time\n",
    "example = 'a' * 100000\n",
    "result = []\n",
    "start = time.time()\n",
    "for letter in example:\n",
    "    result.insert(0, letter)\n",
    "end = time.time()\n",
    "print('从头部依次插入数据，耗时：', end - start)"
   ]
  },
  {
   "cell_type": "code",
   "execution_count": 39,
   "metadata": {},
   "outputs": [
    {
     "name": "stdout",
     "output_type": "stream",
     "text": [
      "从尾部依次插入数据，耗时： 0.012279987335205078\n"
     ]
    }
   ],
   "source": [
    "import time\n",
    "example = 'a' * 100000\n",
    "result = []\n",
    "start = time.time()\n",
    "for letter in example:\n",
    "    result.append(letter)\n",
    "end = time.time()\n",
    "print('从尾部依次插入数据，耗时：', end - start)"
   ]
  },
  {
   "cell_type": "code",
   "execution_count": 35,
   "metadata": {},
   "outputs": [
    {
     "name": "stdout",
     "output_type": "stream",
     "text": [
      "从deque头部弹出所有数据，耗时： 0.010844230651855469\n"
     ]
    }
   ],
   "source": [
    "import time\n",
    "from collections import deque\n",
    "example = deque('a' * 100000)\n",
    "start = time.time()\n",
    "while example:\n",
    "    example.popleft()\n",
    "end = time.time()\n",
    "print('从deque头部弹出所有数据，耗时：', end - start)"
   ]
  },
  {
   "cell_type": "code",
   "execution_count": 36,
   "metadata": {},
   "outputs": [
    {
     "name": "stdout",
     "output_type": "stream",
     "text": [
      "从deque头部弹出所有数据，耗时： 0.010162830352783203\n"
     ]
    }
   ],
   "source": [
    "import time\n",
    "from collections import deque\n",
    "example = deque('a' * 100000)\n",
    "start = time.time()\n",
    "while example:\n",
    "    example.pop()\n",
    "end = time.time()\n",
    "print('从deque头部弹出所有数据，耗时：', end - start)"
   ]
  },
  {
   "cell_type": "code",
   "execution_count": null,
   "metadata": {
    "collapsed": true
   },
   "outputs": [],
   "source": [
    "import redis\n",
    "import json\n",
    "\n",
    "def read_data():\n",
    "    client = redis.Redis(host='xxxx', port=6739, password='xxxxx')\n",
    "    while True:\n",
    "        data = client.blpop('input_num')[1].decode()\n",
    "        if data == 'finished':\n",
    "            break\n",
    "        num_list = json.loads(data)\n",
    "        yield num_list\n",
    "\n",
    "def calc():\n",
    "    for num_list in read_data:\n",
    "        a = num_list[0]\n",
    "        b = num_list[1]\n",
    "        \"\"\"你的代码\"\"\"\n",
    "        "
   ]
  }
 ],
 "metadata": {
  "kernelspec": {
   "display_name": "Python 3",
   "language": "python",
   "name": "python3"
  },
  "language_info": {
   "codemirror_mode": {
    "name": "ipython",
    "version": 3
   },
   "file_extension": ".py",
   "mimetype": "text/x-python",
   "name": "python",
   "nbconvert_exporter": "python",
   "pygments_lexer": "ipython3",
   "version": "3.6.8"
  }
 },
 "nbformat": 4,
 "nbformat_minor": 2
}
